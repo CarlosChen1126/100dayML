{
 "cells": [
  {
   "cell_type": "markdown",
   "metadata": {},
   "source": [
    "## [作業目標]\n",
    "了解機器學習適合應用的領域與範疇。"
   ]
  },
  {
   "cell_type": "markdown",
   "metadata": {},
   "source": [
    "## [作業重點]\n",
    "透過瞭解機器學習的運作方式，找出非常適用機器學習應用的領域及其原因"
   ]
  },
  {
   "cell_type": "markdown",
   "metadata": {},
   "source": [
    "## 作業\n",
<<<<<<< HEAD
    "請找出一個你認為機器學習可以發光發熱的領域並闡述原因? \n",
    "   我認為在醫療診斷這個領域中，機器學習能帶來只靠人類無法達到的進步，機器學習被應用在臨床實驗，搜集夠多可能致病的參數之數據後，可以有效分析其病情，預測病情進展，進而找出最有效的療法，甚至是分析出預防的方式，如此一來可以幫助醫療的進步，許多的不治之症也可能有了一絲希望，對人類而言，沒有健康的身體，再多的科技進步都是枉然，因此我認為機器學習能在醫療領域發光發熱。"
=======
    "請找出一個你認為機器學習可以發光發熱的領域並闡述原因? "
>>>>>>> 2504173c95944feca47730096c776fd2112a2549
   ]
  },
  {
   "cell_type": "code",
   "execution_count": null,
   "metadata": {},
   "outputs": [],
<<<<<<< HEAD
   "source": []
=======
   "source": [
    "   "
   ]
>>>>>>> 2504173c95944feca47730096c776fd2112a2549
  }
 ],
 "metadata": {
  "kernelspec": {
   "display_name": "Python 3",
   "language": "python",
   "name": "python3"
  },
  "language_info": {
   "codemirror_mode": {
    "name": "ipython",
    "version": 3
   },
   "file_extension": ".py",
   "mimetype": "text/x-python",
   "name": "python",
   "nbconvert_exporter": "python",
   "pygments_lexer": "ipython3",
<<<<<<< HEAD
   "version": "3.7.6"
=======
   "version": "3.6.6"
>>>>>>> 2504173c95944feca47730096c776fd2112a2549
  }
 },
 "nbformat": 4,
 "nbformat_minor": 2
}
